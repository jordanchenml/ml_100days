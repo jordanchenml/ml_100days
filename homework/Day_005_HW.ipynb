{
 "cells": [
  {
   "cell_type": "code",
   "execution_count": 1,
   "metadata": {},
   "outputs": [],
   "source": [
    "# Import 需要的套件\n",
    "import os\n",
    "import numpy as np\n",
    "import pandas as pd\n",
    "\n",
    "# 設定 data_path\n",
    "dir_data = './data/Part01'"
   ]
  },
  {
   "cell_type": "code",
   "execution_count": 2,
   "metadata": {},
   "outputs": [],
   "source": [
    "f_app_train = os.path.join(dir_data, 'application_train.csv')\n",
    "app_train = pd.read_csv(f_app_train)"
   ]
  },
  {
   "cell_type": "code",
   "execution_count": 3,
   "metadata": {},
   "outputs": [],
   "source": [
    "import matplotlib.pyplot as plt\n",
    "import seaborn as sns\n",
    "%matplotlib inline"
   ]
  },
  {
   "cell_type": "markdown",
   "metadata": {},
   "source": [
    "## 練習時間"
   ]
  },
  {
   "cell_type": "markdown",
   "metadata": {},
   "source": [
    "觀察有興趣的欄位的資料分佈，並嘗試找出有趣的訊息\n",
    "#### Eg\n",
    "- 計算任意欄位的平均數及標準差\n",
    "- 畫出任意欄位的[直方圖](https://zh.wikipedia.org/zh-tw/%E7%9B%B4%E6%96%B9%E5%9B%BE)\n",
    "\n",
    "### Hints:\n",
    "- [Descriptive Statistics For pandas Dataframe](https://chrisalbon.com/python/data_wrangling/pandas_dataframe_descriptive_stats/)\n",
    "- [pandas 中的繪圖函數](https://amaozhao.gitbooks.io/pandas-notebook/content/pandas%E4%B8%AD%E7%9A%84%E7%BB%98%E5%9B%BE%E5%87%BD%E6%95%B0.html)\n"
   ]
  },
  {
   "cell_type": "code",
   "execution_count": 4,
   "metadata": {},
   "outputs": [
    {
     "name": "stdout",
     "output_type": "stream",
     "text": [
      "ROWS :  307511\n",
      "COLUMNS :  122\n"
     ]
    },
    {
     "data": {
      "text/plain": [
       "SK_ID_CURR                      int64:dense\n",
       "TARGET                          int64:dense\n",
       "NAME_CONTRACT_TYPE             object:dense\n",
       "CODE_GENDER                    object:dense\n",
       "FLAG_OWN_CAR                   object:dense\n",
       "FLAG_OWN_REALTY                object:dense\n",
       "CNT_CHILDREN                    int64:dense\n",
       "AMT_INCOME_TOTAL              float64:dense\n",
       "AMT_CREDIT                    float64:dense\n",
       "AMT_ANNUITY                   float64:dense\n",
       "AMT_GOODS_PRICE               float64:dense\n",
       "NAME_TYPE_SUITE                object:dense\n",
       "NAME_INCOME_TYPE               object:dense\n",
       "NAME_EDUCATION_TYPE            object:dense\n",
       "NAME_FAMILY_STATUS             object:dense\n",
       "NAME_HOUSING_TYPE              object:dense\n",
       "REGION_POPULATION_RELATIVE    float64:dense\n",
       "DAYS_BIRTH                      int64:dense\n",
       "DAYS_EMPLOYED                   int64:dense\n",
       "DAYS_REGISTRATION             float64:dense\n",
       "DAYS_ID_PUBLISH                 int64:dense\n",
       "OWN_CAR_AGE                   float64:dense\n",
       "FLAG_MOBIL                      int64:dense\n",
       "FLAG_EMP_PHONE                  int64:dense\n",
       "FLAG_WORK_PHONE                 int64:dense\n",
       "FLAG_CONT_MOBILE                int64:dense\n",
       "FLAG_PHONE                      int64:dense\n",
       "FLAG_EMAIL                      int64:dense\n",
       "OCCUPATION_TYPE                object:dense\n",
       "CNT_FAM_MEMBERS               float64:dense\n",
       "                                  ...      \n",
       "DEF_30_CNT_SOCIAL_CIRCLE      float64:dense\n",
       "OBS_60_CNT_SOCIAL_CIRCLE      float64:dense\n",
       "DEF_60_CNT_SOCIAL_CIRCLE      float64:dense\n",
       "DAYS_LAST_PHONE_CHANGE        float64:dense\n",
       "FLAG_DOCUMENT_2                 int64:dense\n",
       "FLAG_DOCUMENT_3                 int64:dense\n",
       "FLAG_DOCUMENT_4                 int64:dense\n",
       "FLAG_DOCUMENT_5                 int64:dense\n",
       "FLAG_DOCUMENT_6                 int64:dense\n",
       "FLAG_DOCUMENT_7                 int64:dense\n",
       "FLAG_DOCUMENT_8                 int64:dense\n",
       "FLAG_DOCUMENT_9                 int64:dense\n",
       "FLAG_DOCUMENT_10                int64:dense\n",
       "FLAG_DOCUMENT_11                int64:dense\n",
       "FLAG_DOCUMENT_12                int64:dense\n",
       "FLAG_DOCUMENT_13                int64:dense\n",
       "FLAG_DOCUMENT_14                int64:dense\n",
       "FLAG_DOCUMENT_15                int64:dense\n",
       "FLAG_DOCUMENT_16                int64:dense\n",
       "FLAG_DOCUMENT_17                int64:dense\n",
       "FLAG_DOCUMENT_18                int64:dense\n",
       "FLAG_DOCUMENT_19                int64:dense\n",
       "FLAG_DOCUMENT_20                int64:dense\n",
       "FLAG_DOCUMENT_21                int64:dense\n",
       "AMT_REQ_CREDIT_BUREAU_HOUR    float64:dense\n",
       "AMT_REQ_CREDIT_BUREAU_DAY     float64:dense\n",
       "AMT_REQ_CREDIT_BUREAU_WEEK    float64:dense\n",
       "AMT_REQ_CREDIT_BUREAU_MON     float64:dense\n",
       "AMT_REQ_CREDIT_BUREAU_QRT     float64:dense\n",
       "AMT_REQ_CREDIT_BUREAU_YEAR    float64:dense\n",
       "Length: 122, dtype: object"
      ]
     },
     "execution_count": 4,
     "metadata": {},
     "output_type": "execute_result"
    }
   ],
   "source": [
    "app_train_df = pd.DataFrame(data=app_train)\n",
    "# print(app_train_df.head(5))\n",
    "print(\"ROWS : \", app_train_df.shape[0])\n",
    "print(\"COLUMNS : \", app_train_df.shape[1])\n",
    "list(app_train_df.columns.values)\n",
    "app_train_df.ftypes"
   ]
  },
  {
   "cell_type": "code",
   "execution_count": 6,
   "metadata": {},
   "outputs": [
    {
     "data": {
      "image/png": "[encoded data removed]",
      "text/plain": [
       "<Figure size 432x288 with 1 Axes>"
      ]
     },
     "metadata": {
      "needs_background": "light"
     },
     "output_type": "display_data"
    }
   ],
   "source": [
    "app_train_CNT_CHILDREN_df = app_train_df['OWN_CAR_AGE']\n",
    "# print(app_train_CNT_CHILDREN_df)\n",
    "plt.hist(app_train_CNT_CHILDREN_df)\n",
    "plt.show()"
   ]
  },
  {
   "cell_type": "code",
   "execution_count": null,
   "metadata": {},
   "outputs": [],
   "source": []
  }
 ],
 "metadata": {
  "kernelspec": {
   "display_name": "Python 3",
   "language": "python",
   "name": "python3"
  },
  "language_info": {
   "codemirror_mode": {
    "name": "ipython",
    "version": 3
   },
   "file_extension": ".py",
   "mimetype": "text/x-python",
   "name": "python",
   "nbconvert_exporter": "python",
   "pygments_lexer": "ipython3",
   "version": "3.7.2"
  }
 },
 "nbformat": 4,
 "nbformat_minor": 2
}
